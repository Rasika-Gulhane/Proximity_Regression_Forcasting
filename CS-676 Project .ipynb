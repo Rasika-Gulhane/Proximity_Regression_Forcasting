{
 "cells": [
  {
   "cell_type": "markdown",
   "id": "2b5dc6e0",
   "metadata": {},
   "source": [
    "## Based on Proximity Regression for Real Time Prediction"
   ]
  },
  {
   "cell_type": "markdown",
   "id": "6811eb95",
   "metadata": {},
   "source": [
    "In this project, we will develop an algorithm that uses proximity measures to perform real-time forecasting.\n",
    "\n",
    "The algorithm will be based on the nearest neighbor approach.                                                   \n",
    "The predicted value for a new data point is based on the values of its k-nearest neighbors in the training data.  \n",
    "To measure proximity between data points, you will use a combination of Minkowski distance and cosine similarity. \n"
   ]
  },
  {
   "cell_type": "code",
   "execution_count": 1,
   "id": "5027eedf",
   "metadata": {},
   "outputs": [],
   "source": [
    "# Importing Required Libraries\n",
    "import pandas as pd\n",
    "import numpy as np\n",
    "import math\n",
    "import matplotlib.pyplot as plt\n",
    "from scipy.cluster.hierarchy import dendrogram, linkage\n",
    "import seaborn as sns"
   ]
  },
  {
   "cell_type": "code",
   "execution_count": 80,
   "id": "7c1e12d0",
   "metadata": {},
   "outputs": [],
   "source": [
    "import warnings\n",
    "warnings.filterwarnings('ignore')"
   ]
  },
  {
   "cell_type": "markdown",
   "id": "9d1c62b0",
   "metadata": {},
   "source": [
    "*DATA SOURCE* : \n",
    "\n",
    "https://finance.yahoo.com/quote/TSLA/history?p=TSLA\n"
   ]
  },
  {
   "cell_type": "code",
   "execution_count": 2,
   "id": "10ea0fcd",
   "metadata": {},
   "outputs": [],
   "source": [
    "# Loading the Dataset\n",
    "df = pd.read_csv(r'/Users/rasikagulhane/Downloads/TSLA.csv', index_col=0)"
   ]
  },
  {
   "cell_type": "code",
   "execution_count": 3,
   "id": "94dccea5",
   "metadata": {},
   "outputs": [
    {
     "name": "stdout",
     "output_type": "stream",
     "text": [
      "(2768, 6)\n",
      "                Open      High       Low     Close  Adj Close    Volume\n",
      "Date                                                                   \n",
      "2012-04-23  2.190667  2.198000  2.114000  2.129333   2.129333  13362000\n",
      "2012-04-24  2.121333  2.146667  2.066667  2.121333   2.121333  10117500\n",
      "2012-04-25  2.138000  2.199333  2.138000  2.194000   2.194000  10683000\n",
      "2012-04-26  2.197333  2.234667  2.194000  2.232667   2.232667   6379500\n",
      "2012-04-27  2.240000  2.242000  2.194000  2.222667   2.222667   8865000\n"
     ]
    }
   ],
   "source": [
    "print(df.shape)\n",
    "print(df.head())"
   ]
  },
  {
   "cell_type": "code",
   "execution_count": 36,
   "id": "2f31f06a",
   "metadata": {},
   "outputs": [
    {
     "data": {
      "text/plain": [
       "<Axes: >"
      ]
     },
     "execution_count": 36,
     "metadata": {},
     "output_type": "execute_result"
    },
    {
     "data": {
      "image/png": "[encoded data removed]",
      "text/plain": [
       "<Figure size 432x288 with 2 Axes>"
      ]
     },
     "metadata": {
      "needs_background": "light"
     },
     "output_type": "display_data"
    }
   ],
   "source": [
    "sns.heatmap(df.corr(), annot= True)"
   ]
  },
  {
   "cell_type": "code",
   "execution_count": 44,
   "id": "28bd1fd1",
   "metadata": {},
   "outputs": [],
   "source": [
    "df=df.drop(['Adj Close','Volume'], axis=1)"
   ]
  },
  {
   "cell_type": "code",
   "execution_count": 45,
   "id": "9cde9274",
   "metadata": {},
   "outputs": [],
   "source": [
    "# Splitting Data into Training and Testing sets\n",
    "train_size = int(len(df) * 0.8)\n",
    "train_data, test_data = df.iloc[:train_size], df.iloc[train_size:]"
   ]
  },
  {
   "cell_type": "code",
   "execution_count": 46,
   "id": "da7db535",
   "metadata": {},
   "outputs": [
    {
     "name": "stdout",
     "output_type": "stream",
     "text": [
      "(2214, 4)\n",
      "(554, 4)\n"
     ]
    }
   ],
   "source": [
    "print(train_data.shape)\n",
    "print(test_data.shape)"
   ]
  },
  {
   "cell_type": "code",
   "execution_count": 47,
   "id": "40dd3ac2",
   "metadata": {},
   "outputs": [
    {
     "data": {
      "text/html": [
       "<div>\n",
       "<style scoped>\n",
       "    .dataframe tbody tr th:only-of-type {\n",
       "        vertical-align: middle;\n",
       "    }\n",
       "\n",
       "    .dataframe tbody tr th {\n",
       "        vertical-align: top;\n",
       "    }\n",
       "\n",
       "    .dataframe thead th {\n",
       "        text-align: right;\n",
       "    }\n",
       "</style>\n",
       "<table border=\"1\" class=\"dataframe\">\n",
       "  <thead>\n",
       "    <tr style=\"text-align: right;\">\n",
       "      <th></th>\n",
       "      <th>Open</th>\n",
       "      <th>High</th>\n",
       "      <th>Low</th>\n",
       "      <th>Close</th>\n",
       "    </tr>\n",
       "    <tr>\n",
       "      <th>Date</th>\n",
       "      <th></th>\n",
       "      <th></th>\n",
       "      <th></th>\n",
       "      <th></th>\n",
       "    </tr>\n",
       "  </thead>\n",
       "  <tbody>\n",
       "    <tr>\n",
       "      <th>2023-04-17</th>\n",
       "      <td>186.320007</td>\n",
       "      <td>189.690002</td>\n",
       "      <td>182.690002</td>\n",
       "      <td>187.039993</td>\n",
       "    </tr>\n",
       "    <tr>\n",
       "      <th>2023-04-18</th>\n",
       "      <td>187.149994</td>\n",
       "      <td>187.690002</td>\n",
       "      <td>183.580002</td>\n",
       "      <td>184.309998</td>\n",
       "    </tr>\n",
       "    <tr>\n",
       "      <th>2023-04-19</th>\n",
       "      <td>179.100006</td>\n",
       "      <td>183.500000</td>\n",
       "      <td>177.649994</td>\n",
       "      <td>180.589996</td>\n",
       "    </tr>\n",
       "    <tr>\n",
       "      <th>2023-04-20</th>\n",
       "      <td>166.169998</td>\n",
       "      <td>169.699997</td>\n",
       "      <td>160.559998</td>\n",
       "      <td>162.990005</td>\n",
       "    </tr>\n",
       "    <tr>\n",
       "      <th>2023-04-21</th>\n",
       "      <td>164.800003</td>\n",
       "      <td>166.000000</td>\n",
       "      <td>161.320007</td>\n",
       "      <td>165.080002</td>\n",
       "    </tr>\n",
       "  </tbody>\n",
       "</table>\n",
       "</div>"
      ],
      "text/plain": [
       "                  Open        High         Low       Close\n",
       "Date                                                      \n",
       "2023-04-17  186.320007  189.690002  182.690002  187.039993\n",
       "2023-04-18  187.149994  187.690002  183.580002  184.309998\n",
       "2023-04-19  179.100006  183.500000  177.649994  180.589996\n",
       "2023-04-20  166.169998  169.699997  160.559998  162.990005\n",
       "2023-04-21  164.800003  166.000000  161.320007  165.080002"
      ]
     },
     "execution_count": 47,
     "metadata": {},
     "output_type": "execute_result"
    }
   ],
   "source": [
    "test_data.tail(5)"
   ]
  },
  {
   "cell_type": "code",
   "execution_count": 48,
   "id": "82b86b0a",
   "metadata": {},
   "outputs": [],
   "source": [
    "# Defining Functions for Distance Metrics\n",
    "def minkowski_distance(x, y, p):\n",
    "    return np.sum(np.abs(x - y) ** p) ** (1/p)\n",
    "\n",
    "def cosine_similarity(x, y):\n",
    "    return np.dot(x, y) / (np.linalg.norm(x) * np.linalg.norm(y))"
   ]
  },
  {
   "cell_type": "markdown",
   "id": "0964b8c9",
   "metadata": {},
   "source": [
    "*implementation of KNN*\n",
    "- KNN regression steps implemented as below:\n",
    "- Closer neighbors are weighted more heavily than farther neighbors"
   ]
  },
  {
   "cell_type": "code",
   "execution_count": 49,
   "id": "1800896f",
   "metadata": {},
   "outputs": [
    {
     "name": "stdout",
     "output_type": "stream",
     "text": [
      "2012-04-23 Open     2.190667\n",
      "High     2.198000\n",
      "Low      2.114000\n",
      "Close    2.129333\n",
      "Name: 2012-04-23, dtype: float64\n"
     ]
    }
   ],
   "source": [
    "for index, row in train_data.iterrows():\n",
    "    print(index,row)\n",
    "    break"
   ]
  },
  {
   "cell_type": "code",
   "execution_count": 90,
   "id": "f6da8c36",
   "metadata": {},
   "outputs": [],
   "source": [
    "def predict(train_data, test_instance, k, p):\n",
    "    distances = []\n",
    "    \n",
    "    for index, row in train_data.iterrows():\n",
    "        dist = minkowski_distance(row[:-1], test_instance, p)\n",
    "        distances.append((dist, index))\n",
    "        \n",
    "    distances.sort()\n",
    "    neighbors = distances[:k]\n",
    "    total_weight = 0\n",
    "    weighted_sum = 0\n",
    "    \n",
    "    for neighbor in neighbors:\n",
    "        weight = 1/neighbor[0]\n",
    "        total_weight += weight\n",
    "        weighted_sum += weight * train_data.loc[neighbor[1], 'Close']\n",
    "        \n",
    "    return weighted_sum/total_weight"
   ]
  },
  {
   "cell_type": "code",
   "execution_count": 91,
   "id": "ab9731e5",
   "metadata": {},
   "outputs": [],
   "source": [
    "\n",
    "# Defining Function for Evaluating the Model\n",
    "def evaluate(train_data, test_data, k, p):\n",
    "    predictions = []\n",
    "    for index, row in test_data.iterrows():\n",
    "        predictions.append(predict(train_data, row[:-1], k, p))\n",
    "    rmse = math.sqrt(np.mean((test_data['Close'].values - predictions)**2))\n",
    "    return rmse\n"
   ]
  },
  {
   "cell_type": "code",
   "execution_count": 102,
   "id": "5f7a170e",
   "metadata": {},
   "outputs": [
    {
     "name": "stdout",
     "output_type": "stream",
     "text": [
      "k=1, p=1: RMSE=25.284343743475663\n",
      "k=1, p=2: RMSE=25.23276511310601\n",
      "k=1, p=3: RMSE=25.206082617195474\n",
      "k=5, p=1: RMSE=26.909292032860407\n",
      "k=5, p=2: RMSE=26.868706438815153\n",
      "k=5, p=3: RMSE=26.85549685383074\n",
      "k=10, p=1: RMSE=27.534553744703846\n",
      "k=10, p=2: RMSE=27.520537134207917\n",
      "k=10, p=3: RMSE=27.508846401032805\n",
      "k=15, p=1: RMSE=28.457561321773237\n",
      "k=15, p=2: RMSE=28.458855819423242\n",
      "k=15, p=3: RMSE=28.454892590447923\n"
     ]
    }
   ],
   "source": [
    "# Evaluating the Model for Different Values of k and p\n",
    "k_values = [1, 5, 10, 15]\n",
    "p_values = [1, 2, 3]\n",
    "for k in k_values:\n",
    "    for p in p_values:\n",
    "        rmse = evaluate(train_data, test_data, k, p)\n",
    "        print(f\"k={k}, p={p}: RMSE={rmse}\")"
   ]
  },
  {
   "cell_type": "code",
   "execution_count": null,
   "id": "fed84493",
   "metadata": {},
   "outputs": [],
   "source": [
    "rmse= evaluate(train_data, test_data, 5, 2)"
   ]
  },
  {
   "cell_type": "code",
   "execution_count": null,
   "id": "e224807b",
   "metadata": {},
   "outputs": [],
   "source": []
  },
  {
   "cell_type": "markdown",
   "id": "e679e9df",
   "metadata": {},
   "source": [
    "### Same task with KNN inbuilt library:"
   ]
  },
  {
   "cell_type": "code",
   "execution_count": 53,
   "id": "5f5f6956",
   "metadata": {},
   "outputs": [
    {
     "name": "stdout",
     "output_type": "stream",
     "text": [
      "Index(['Open', 'High', 'Low', 'Close'], dtype='object')\n",
      "k=1, p=1: RMSE=25.284343743475663\n",
      "k=1, p=2: RMSE=25.23276511310601\n",
      "k=1, p=3: RMSE=25.206082617195474\n",
      "k=3, p=1: RMSE=27.27550842869655\n",
      "k=3, p=2: RMSE=27.197117667323713\n",
      "k=3, p=3: RMSE=27.153217776188576\n",
      "k=5, p=1: RMSE=27.010258526634583\n",
      "k=5, p=2: RMSE=26.973098805957427\n",
      "k=5, p=3: RMSE=26.955021426085317\n",
      "k=7, p=1: RMSE=26.77006379841713\n",
      "k=7, p=2: RMSE=26.73319000215743\n",
      "k=7, p=3: RMSE=26.745355362127526\n",
      "k=9, p=1: RMSE=27.568309630020142\n",
      "k=9, p=2: RMSE=27.531714498292\n",
      "k=9, p=3: RMSE=27.50989174514633\n"
     ]
    }
   ],
   "source": [
    "# Importing Required Libraries\n",
    "import pandas as pd\n",
    "import numpy as np\n",
    "import math\n",
    "from sklearn.neighbors import KNeighborsRegressor\n",
    "\n",
    "print(df.columns)\n",
    "# Splitting Data into Training and Testing sets\n",
    "train_size = int(len(df) * 0.8)\n",
    "train_data, test_data = df.iloc[:train_size], df.iloc[train_size:]\n",
    "\n",
    "# Defining Function for Evaluating the Model\n",
    "def evaluate_knn(train_data, test_data, k, p):\n",
    "    knn = KNeighborsRegressor(n_neighbors=k, p=p)\n",
    "    knn.fit(train_data.iloc[:, :-1], train_data['Close'])\n",
    "    predictions = knn.predict(test_data.iloc[:, :-1])\n",
    "    rmse = math.sqrt(np.mean((test_data['Close'].values - predictions)**2))\n",
    "    return rmse\n",
    "\n",
    "# Evaluating the Model for Different Values of k and p\n",
    "k_values = [1, 3, 5, 7, 9]\n",
    "p_values = [1, 2, 3]\n",
    "for k in k_values:\n",
    "    for p in p_values:\n",
    "        rmse = evaluate_knn(train_data, test_data, k, p)\n",
    "        print(f\"k={k}, p={p}: RMSE={rmse}\")\n"
   ]
  },
  {
   "cell_type": "markdown",
   "id": "b35170cc",
   "metadata": {},
   "source": [
    "### Check prediction of target close value for new data"
   ]
  },
  {
   "cell_type": "code",
   "execution_count": 67,
   "id": "73a35cb5",
   "metadata": {},
   "outputs": [
    {
     "name": "stdout",
     "output_type": "stream",
     "text": [
      "    Open   High     Low Close\n",
      "0  171.8  173.0  169.92   NaN\n"
     ]
    }
   ],
   "source": [
    "import pandas as pd\n",
    "\n",
    "df1 = pd.DataFrame()\n",
    "df1['Open'] = [1.718000e+02]\n",
    "df1['High'] = [1.730000e+02]\n",
    "df1['Low'] = [1.699200e+02]\n",
    "df1['Close'] = [np.nan]\n",
    "# df1['Adj Close '] = [1.720800e+02]\n",
    "# df1['Volume'] = [1.033523e+08]\n",
    "df1.columns = [['Open', 'High', 'Low', 'Close']]\n",
    "\n",
    "print(df1.head())\n"
   ]
  },
  {
   "cell_type": "code",
   "execution_count": 74,
   "id": "c1e97447",
   "metadata": {},
   "outputs": [
    {
     "data": {
      "text/html": [
       "<div>\n",
       "<style scoped>\n",
       "    .dataframe tbody tr th:only-of-type {\n",
       "        vertical-align: middle;\n",
       "    }\n",
       "\n",
       "    .dataframe tbody tr th {\n",
       "        vertical-align: top;\n",
       "    }\n",
       "\n",
       "    .dataframe thead tr th {\n",
       "        text-align: left;\n",
       "    }\n",
       "</style>\n",
       "<table border=\"1\" class=\"dataframe\">\n",
       "  <thead>\n",
       "    <tr>\n",
       "      <th></th>\n",
       "      <th>Open</th>\n",
       "      <th>High</th>\n",
       "      <th>Low</th>\n",
       "      <th>Close</th>\n",
       "    </tr>\n",
       "  </thead>\n",
       "  <tbody>\n",
       "    <tr>\n",
       "      <th>0</th>\n",
       "      <td>171.8</td>\n",
       "      <td>173.0</td>\n",
       "      <td>169.92</td>\n",
       "      <td>NaN</td>\n",
       "    </tr>\n",
       "  </tbody>\n",
       "</table>\n",
       "</div>"
      ],
      "text/plain": [
       "    Open   High     Low Close\n",
       "0  171.8  173.0  169.92   NaN"
      ]
     },
     "execution_count": 74,
     "metadata": {},
     "output_type": "execute_result"
    }
   ],
   "source": [
    "new_data= df1\n",
    "new_data"
   ]
  },
  {
   "cell_type": "code",
   "execution_count": 95,
   "id": "f495244c",
   "metadata": {},
   "outputs": [
    {
     "name": "stdout",
     "output_type": "stream",
     "text": [
      "Predicted Close Value: nan\n"
     ]
    }
   ],
   "source": [
    "# Create a new data row\n",
    "new_data_row = pd.Series([120, 130, 118, 125])\n",
    "\n",
    "# Remove the 'Close' column from the new data row\n",
    "new_data_row_without_close = new_data_row[:-1]\n",
    "\n",
    "# Set the values of k and p\n",
    "k = 5\n",
    "p = 2\n",
    "\n",
    "# Use the 'predict' function to predict the close value for the new data row\n",
    "predicted_close_value = predict(train_data, new_data_row_without_close, k, p)\n",
    "\n",
    "print(f\"Predicted Close Value: {predicted_close_value}\")\n"
   ]
  },
  {
   "cell_type": "code",
   "execution_count": 88,
   "id": "543a2f2c",
   "metadata": {},
   "outputs": [
    {
     "data": {
      "text/plain": [
       "array([[171.8 , 173.  , 169.92]])"
      ]
     },
     "execution_count": 88,
     "metadata": {},
     "output_type": "execute_result"
    }
   ],
   "source": [
    "X_new = new_data.iloc[:, :-1].values\n",
    "X_new"
   ]
  },
  {
   "cell_type": "markdown",
   "id": "c06c2958",
   "metadata": {},
   "source": [
    "**Predicting target 'Close value' of new data row with predicted function created**"
   ]
  },
  {
   "cell_type": "code",
   "execution_count": 96,
   "id": "b7f5cfd4",
   "metadata": {},
   "outputs": [],
   "source": [
    "# # Split new data into features and target variable\n",
    "# X_new = new_data.iloc[:, :-1].values\n",
    "# y_new= new_data['Close']\n",
    "\n",
    "# # new_data_row_without_close = new_data[:-1]\n",
    "\n",
    "# # Set the values of k and p\n",
    "# k = 5\n",
    "# p = 2\n",
    "\n",
    "# # Use the 'predict' function to predict the close value for the new data row\n",
    "# predicted_close_value = predict(train_data, X_new, k, p)\n",
    "\n",
    "# print(f\"Predicted Close Value: {predicted_close_value}\")\n"
   ]
  },
  {
   "cell_type": "markdown",
   "id": "c5d706f2",
   "metadata": {},
   "source": [
    "**Predicting target 'Close value' of new data row with KNN**"
   ]
  },
  {
   "cell_type": "code",
   "execution_count": 75,
   "id": "424c5f66",
   "metadata": {},
   "outputs": [
    {
     "data": {
      "text/plain": [
       "KNeighborsRegressor()"
      ]
     },
     "execution_count": 75,
     "metadata": {},
     "output_type": "execute_result"
    }
   ],
   "source": [
    "knn = KNeighborsRegressor(n_neighbors=5, p=2)\n",
    "knn.fit(train_data.iloc[:, :-1], train_data['Close'])"
   ]
  },
  {
   "cell_type": "code",
   "execution_count": 77,
   "id": "dd9f7218",
   "metadata": {},
   "outputs": [
    {
     "name": "stdout",
     "output_type": "stream",
     "text": [
      "[169.410669]\n"
     ]
    },
    {
     "name": "stderr",
     "output_type": "stream",
     "text": [
      "/Users/rasikagulhane/opt/anaconda3/lib/python3.9/site-packages/sklearn/base.py:450: UserWarning: X does not have valid feature names, but KNeighborsRegressor was fitted with feature names\n",
      "  warnings.warn(\n"
     ]
    }
   ],
   "source": [
    "# Split new data into features and target variable\n",
    "X_new = new_data.iloc[:, :-1].values\n",
    "y_new= new_data['Close']\n",
    "\n",
    "predictions = []\n",
    "for index, row in test_data.iterrows():\n",
    "        predictions.append(predict(train_data, row[:-1], 5, 2))\n",
    "\n",
    "# Predicting the Close value for new data\n",
    "y_new_pred = knn.predict(X_new)\n",
    "\n",
    "# Printing the predicted values\n",
    "print(y_new_pred)\n"
   ]
  },
  {
   "cell_type": "code",
   "execution_count": null,
   "id": "10777ee6",
   "metadata": {},
   "outputs": [],
   "source": []
  },
  {
   "cell_type": "code",
   "execution_count": null,
   "id": "4c479c1e",
   "metadata": {},
   "outputs": [],
   "source": []
  },
  {
   "cell_type": "markdown",
   "id": "36087fd5",
   "metadata": {},
   "source": [
    "### dendogram for better understanding of dataset"
   ]
  },
  {
   "cell_type": "code",
   "execution_count": 101,
   "id": "9da3dfad",
   "metadata": {},
   "outputs": [
    {
     "data": {
      "text/html": [
       "<div>\n",
       "<style scoped>\n",
       "    .dataframe tbody tr th:only-of-type {\n",
       "        vertical-align: middle;\n",
       "    }\n",
       "\n",
       "    .dataframe tbody tr th {\n",
       "        vertical-align: top;\n",
       "    }\n",
       "\n",
       "    .dataframe thead th {\n",
       "        text-align: right;\n",
       "    }\n",
       "</style>\n",
       "<table border=\"1\" class=\"dataframe\">\n",
       "  <thead>\n",
       "    <tr style=\"text-align: right;\">\n",
       "      <th></th>\n",
       "      <th>Open</th>\n",
       "      <th>High</th>\n",
       "      <th>Low</th>\n",
       "      <th>Close</th>\n",
       "    </tr>\n",
       "    <tr>\n",
       "      <th>Date</th>\n",
       "      <th></th>\n",
       "      <th></th>\n",
       "      <th></th>\n",
       "      <th></th>\n",
       "    </tr>\n",
       "  </thead>\n",
       "  <tbody>\n",
       "    <tr>\n",
       "      <th>2012-04-23</th>\n",
       "      <td>2.190667</td>\n",
       "      <td>2.198000</td>\n",
       "      <td>2.114000</td>\n",
       "      <td>2.129333</td>\n",
       "    </tr>\n",
       "    <tr>\n",
       "      <th>2012-04-24</th>\n",
       "      <td>2.121333</td>\n",
       "      <td>2.146667</td>\n",
       "      <td>2.066667</td>\n",
       "      <td>2.121333</td>\n",
       "    </tr>\n",
       "    <tr>\n",
       "      <th>2012-04-25</th>\n",
       "      <td>2.138000</td>\n",
       "      <td>2.199333</td>\n",
       "      <td>2.138000</td>\n",
       "      <td>2.194000</td>\n",
       "    </tr>\n",
       "    <tr>\n",
       "      <th>2012-04-26</th>\n",
       "      <td>2.197333</td>\n",
       "      <td>2.234667</td>\n",
       "      <td>2.194000</td>\n",
       "      <td>2.232667</td>\n",
       "    </tr>\n",
       "    <tr>\n",
       "      <th>2012-04-27</th>\n",
       "      <td>2.240000</td>\n",
       "      <td>2.242000</td>\n",
       "      <td>2.194000</td>\n",
       "      <td>2.222667</td>\n",
       "    </tr>\n",
       "    <tr>\n",
       "      <th>...</th>\n",
       "      <td>...</td>\n",
       "      <td>...</td>\n",
       "      <td>...</td>\n",
       "      <td>...</td>\n",
       "    </tr>\n",
       "    <tr>\n",
       "      <th>2021-02-02</th>\n",
       "      <td>281.559998</td>\n",
       "      <td>293.500000</td>\n",
       "      <td>280.733337</td>\n",
       "      <td>290.929993</td>\n",
       "    </tr>\n",
       "    <tr>\n",
       "      <th>2021-02-03</th>\n",
       "      <td>292.339996</td>\n",
       "      <td>292.693329</td>\n",
       "      <td>284.353333</td>\n",
       "      <td>284.896667</td>\n",
       "    </tr>\n",
       "    <tr>\n",
       "      <th>2021-02-04</th>\n",
       "      <td>285.000000</td>\n",
       "      <td>285.500000</td>\n",
       "      <td>277.806671</td>\n",
       "      <td>283.329987</td>\n",
       "    </tr>\n",
       "    <tr>\n",
       "      <th>2021-02-05</th>\n",
       "      <td>281.666656</td>\n",
       "      <td>288.256653</td>\n",
       "      <td>279.656677</td>\n",
       "      <td>284.076660</td>\n",
       "    </tr>\n",
       "    <tr>\n",
       "      <th>2021-02-08</th>\n",
       "      <td>289.890015</td>\n",
       "      <td>292.589996</td>\n",
       "      <td>284.916656</td>\n",
       "      <td>287.806671</td>\n",
       "    </tr>\n",
       "  </tbody>\n",
       "</table>\n",
       "<p>2214 rows × 4 columns</p>\n",
       "</div>"
      ],
      "text/plain": [
       "                  Open        High         Low       Close\n",
       "Date                                                      \n",
       "2012-04-23    2.190667    2.198000    2.114000    2.129333\n",
       "2012-04-24    2.121333    2.146667    2.066667    2.121333\n",
       "2012-04-25    2.138000    2.199333    2.138000    2.194000\n",
       "2012-04-26    2.197333    2.234667    2.194000    2.232667\n",
       "2012-04-27    2.240000    2.242000    2.194000    2.222667\n",
       "...                ...         ...         ...         ...\n",
       "2021-02-02  281.559998  293.500000  280.733337  290.929993\n",
       "2021-02-03  292.339996  292.693329  284.353333  284.896667\n",
       "2021-02-04  285.000000  285.500000  277.806671  283.329987\n",
       "2021-02-05  281.666656  288.256653  279.656677  284.076660\n",
       "2021-02-08  289.890015  292.589996  284.916656  287.806671\n",
       "\n",
       "[2214 rows x 4 columns]"
      ]
     },
     "execution_count": 101,
     "metadata": {},
     "output_type": "execute_result"
    }
   ],
   "source": [
    "train_data"
   ]
  },
  {
   "cell_type": "code",
   "execution_count": 97,
   "id": "82f0a554",
   "metadata": {},
   "outputs": [
    {
     "data": {
      "image/png": "[encoded data removed]",
      "text/plain": [
       "<Figure size 720x432 with 1 Axes>"
      ]
     },
     "metadata": {
      "needs_background": "light"
     },
     "output_type": "display_data"
    }
   ],
   "source": [
    "# Clustering the train Data Points based on their Distance\n",
    "Z = linkage(train_data.head(20).iloc[:, :-1].values, method='single')\n",
    "fig = plt.figure(figsize=(10, 6))\n",
    "dn = dendrogram(Z)"
   ]
  },
  {
   "cell_type": "code",
   "execution_count": 100,
   "id": "7ed2f344",
   "metadata": {},
   "outputs": [
    {
     "data": {
      "image/png": "[encoded data removed]",
      "text/plain": [
       "<Figure size 720x432 with 1 Axes>"
      ]
     },
     "metadata": {
      "needs_background": "light"
     },
     "output_type": "display_data"
    }
   ],
   "source": [
    "# Clustering the test Data Points based on their Distance\n",
    "Z = linkage(test_data.tail(20).iloc[:, :-1].values, method='single')\n",
    "fig = plt.figure(figsize=(10, 6))\n",
    "dn = dendrogram(Z)"
   ]
  },
  {
   "cell_type": "code",
   "execution_count": null,
   "id": "0b2d54b3",
   "metadata": {},
   "outputs": [],
   "source": []
  }
 ],
 "metadata": {
  "kernelspec": {
   "display_name": "Python 3 (ipykernel)",
   "language": "python",
   "name": "python3"
  },
  "language_info": {
   "codemirror_mode": {
    "name": "ipython",
    "version": 3
   },
   "file_extension": ".py",
   "mimetype": "text/x-python",
   "name": "python",
   "nbconvert_exporter": "python",
   "pygments_lexer": "ipython3",
   "version": "3.9.12"
  }
 },
 "nbformat": 4,
 "nbformat_minor": 5
}
